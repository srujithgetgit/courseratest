{
 "cells": [
  {
   "cell_type": "markdown",
   "id": "9b07e204-6afa-4030-a476-06e975e89dff",
   "metadata": {},
   "source": [
    "# Data Science Tools and Ecosystem"
   ]
  },
  {
   "cell_type": "markdown",
   "id": "96cb879c-9ced-49f5-8557-0e5c10616451",
   "metadata": {},
   "source": [
    "In this notebook, Data Science Tools and Ecosystem are summarized."
   ]
  },
  {
   "cell_type": "markdown",
   "id": "e17a62ef-e2ff-41c1-b412-2ece21cd6f1e",
   "metadata": {},
   "source": [
    "<b>Objectives:</b>\n",
    "- popular languages used in data science\n",
    "- commonly used libraries in data science\n",
    "- Arithmetic operations\n",
    "- Data Science tools"
   ]
  },
  {
   "cell_type": "markdown",
   "id": "10f724b9-7099-44ae-9061-35c88c225e7c",
   "metadata": {},
   "source": [
    "Some of the popular languages that Data Scientists use are:\n",
    "- Python\n",
    "- R\n",
    "- SQL"
   ]
  },
  {
   "cell_type": "markdown",
   "id": "5d6ae5e4-f7ac-412f-a6ea-14a3c9ef8309",
   "metadata": {},
   "source": [
    "Some of the commonly used libraries used by Data Scientists include:\n",
    "- Numpy\n",
    "- Pandas\n",
    "- matplotlib"
   ]
  },
  {
   "cell_type": "markdown",
   "id": "2357cb94-4d1b-40dd-9b19-ade1c2ab24b0",
   "metadata": {},
   "source": [
    "|Data Science Tools|\n",
    "|-------------------|\n",
    "|Jupiter Notebook|\n",
    "|RStudio|\n",
    "|VS Code|\n"
   ]
  },
  {
   "cell_type": "markdown",
   "id": "0fd82315-d469-4598-b767-c2cc6f6e25f2",
   "metadata": {},
   "source": [
    "### Below are a few examples of evaluating arithmetic expressions in Python"
   ]
  },
  {
   "cell_type": "code",
   "execution_count": 7,
   "id": "91e15e38-39dc-4ee9-a64f-3c75d9980d4b",
   "metadata": {},
   "outputs": [
    {
     "data": {
      "text/plain": [
       "17"
      ]
     },
     "execution_count": 7,
     "metadata": {},
     "output_type": "execute_result"
    }
   ],
   "source": [
    "(3*4)+5"
   ]
  },
  {
   "cell_type": "code",
   "execution_count": 8,
   "id": "e03892aa-94bc-4181-8248-ba7c52b037db",
   "metadata": {},
   "outputs": [
    {
     "data": {
      "text/plain": [
       "3.3333333333333335"
      ]
     },
     "execution_count": 8,
     "metadata": {},
     "output_type": "execute_result"
    }
   ],
   "source": [
    "minutes = 200\n",
    "hours = minutes/60\n",
    "hours"
   ]
  },
  {
   "cell_type": "markdown",
   "id": "7e124361-ee5b-4461-95d8-196a6e47af41",
   "metadata": {},
   "source": [
    "## Author\n",
    "Sai Srujith Diddi"
   ]
  },
  {
   "cell_type": "code",
   "execution_count": null,
   "id": "1f4dc0ad-70cc-41a4-a81c-260a77ad5535",
   "metadata": {},
   "outputs": [],
   "source": []
  }
 ],
 "metadata": {
  "kernelspec": {
   "display_name": "Python 3 (ipykernel)",
   "language": "python",
   "name": "python3"
  },
  "language_info": {
   "codemirror_mode": {
    "name": "ipython",
    "version": 3
   },
   "file_extension": ".py",
   "mimetype": "text/x-python",
   "name": "python",
   "nbconvert_exporter": "python",
   "pygments_lexer": "ipython3",
   "version": "3.11.7"
  }
 },
 "nbformat": 4,
 "nbformat_minor": 5
}
